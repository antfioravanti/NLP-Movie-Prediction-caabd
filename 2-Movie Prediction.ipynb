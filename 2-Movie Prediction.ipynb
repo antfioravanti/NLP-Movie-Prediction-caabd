{
 "cells": [
  {
   "cell_type": "code",
   "execution_count": 1,
   "metadata": {},
   "outputs": [],
   "source": [
    "import pandas as pd\n",
    "import numpy as np\n",
    "\n",
    "# Bag of Words\n",
    "from sklearn.feature_extraction.text import CountVectorizer\n",
    "from sklearn.feature_extraction.text import TfidfTransformer\n",
    "\n",
    "#Models\n",
    "from sklearn.linear_model import LogisticRegression\n",
    "from sklearn.metrics import classification_report,  accuracy_score\n",
    "\n",
    "#Grid Search\n",
    "from sklearn.model_selection import GridSearchCV\n",
    "from sklearn.pipeline import Pipeline\n",
    "\n",
    "#Competing models\n",
    "from xgboost import XGBClassifier\n",
    "from sklearn.naive_bayes import MultinomialNB\n",
    "from sklearn.svm import SVC\n",
    "from sklearn.metrics import accuracy_score, make_scorer\n",
    "\n",
    "#Extra Stop Words corpus\n",
    "import nltk\n",
    "\n",
    "#Vsualization\n",
    "from yellowbrick.text import FreqDistVisualizer"
   ]
  },
  {
   "cell_type": "markdown",
   "metadata": {},
   "source": [
    "## Data Importing"
   ]
  },
  {
   "cell_type": "markdown",
   "metadata": {},
   "source": [
    "The movie data is already split in a train and test datasets"
   ]
  },
  {
   "cell_type": "code",
   "execution_count": 2,
   "metadata": {},
   "outputs": [],
   "source": [
    "train = pd.read_csv(\"train.csv\")\n",
    "test = pd.read_csv(\"test.csv\")"
   ]
  },
  {
   "cell_type": "markdown",
   "metadata": {},
   "source": [
    "## Data inspection"
   ]
  },
  {
   "cell_type": "markdown",
   "metadata": {},
   "source": [
    "Firstly, a data inspection is carried out on the train dataset. It is used to check what kind of variables the dataset contains, if there are missing values and if the grouping of the target level is balanced.\n",
    "\n",
    "In particular, the aim of the project is to obtain a prediction of the genre based on the text data given by the plot and possibly other features. This is done by checking the accuracy on the test set in the Kaggle competition: https://www.kaggle.com/c/collecting-and-analyzing-big-data-s0k17a"
   ]
  },
  {
   "cell_type": "code",
   "execution_count": 3,
   "metadata": {},
   "outputs": [
    {
     "name": "stdout",
     "output_type": "stream",
     "text": [
      "<class 'pandas.core.frame.DataFrame'>\n",
      "RangeIndex: 13164 entries, 0 to 13163\n",
      "Data columns (total 8 columns):\n",
      " #   Column            Non-Null Count  Dtype \n",
      "---  ------            --------------  ----- \n",
      " 0   Release Year      13164 non-null  int64 \n",
      " 1   Title             13164 non-null  object\n",
      " 2   Origin/Ethnicity  13164 non-null  object\n",
      " 3   Director          13164 non-null  object\n",
      " 4   Cast              12980 non-null  object\n",
      " 5   Genre             13164 non-null  object\n",
      " 6   Wiki Page         13164 non-null  object\n",
      " 7   Plot              13164 non-null  object\n",
      "dtypes: int64(1), object(7)\n",
      "memory usage: 822.9+ KB\n"
     ]
    }
   ],
   "source": [
    "train.info()"
   ]
  },
  {
   "cell_type": "markdown",
   "metadata": {},
   "source": [
    "Checking for missing value, only in the variable cast"
   ]
  },
  {
   "cell_type": "code",
   "execution_count": 8,
   "metadata": {},
   "outputs": [
    {
     "data": {
      "text/plain": [
       "Release Year          0\n",
       "Title                 0\n",
       "Origin/Ethnicity      0\n",
       "Director              0\n",
       "Cast                184\n",
       "Genre                 0\n",
       "Wiki Page             0\n",
       "Plot                  0\n",
       "dtype: int64"
      ]
     },
     "execution_count": 8,
     "metadata": {},
     "output_type": "execute_result"
    }
   ],
   "source": [
    "train.isna().sum()"
   ]
  },
  {
   "cell_type": "markdown",
   "metadata": {},
   "source": [
    "We can see that drama and comedy are the most populated genres, while adventure and crime are the least present ones."
   ]
  },
  {
   "cell_type": "code",
   "execution_count": 9,
   "metadata": {},
   "outputs": [
    {
     "data": {
      "text/plain": [
       "drama        4781\n",
       "comedy       3503\n",
       "horror        937\n",
       "action        890\n",
       "thriller      768\n",
       "romance       743\n",
       "western       678\n",
       "crime         442\n",
       "adventure     422\n",
       "Name: Genre, dtype: int64"
      ]
     },
     "execution_count": 9,
     "metadata": {},
     "output_type": "execute_result"
    }
   ],
   "source": [
    "train[\"Genre\"].value_counts()"
   ]
  },
  {
   "cell_type": "code",
   "execution_count": 5,
   "metadata": {},
   "outputs": [
    {
     "data": {
      "text/html": [
       "<div>\n",
       "<style scoped>\n",
       "    .dataframe tbody tr th:only-of-type {\n",
       "        vertical-align: middle;\n",
       "    }\n",
       "\n",
       "    .dataframe tbody tr th {\n",
       "        vertical-align: top;\n",
       "    }\n",
       "\n",
       "    .dataframe thead th {\n",
       "        text-align: right;\n",
       "    }\n",
       "</style>\n",
       "<table border=\"1\" class=\"dataframe\">\n",
       "  <thead>\n",
       "    <tr style=\"text-align: right;\">\n",
       "      <th></th>\n",
       "      <th>Release Year</th>\n",
       "      <th>Title</th>\n",
       "      <th>Origin/Ethnicity</th>\n",
       "      <th>Director</th>\n",
       "      <th>Cast</th>\n",
       "      <th>Genre</th>\n",
       "      <th>Wiki Page</th>\n",
       "      <th>Plot</th>\n",
       "    </tr>\n",
       "  </thead>\n",
       "  <tbody>\n",
       "    <tr>\n",
       "      <th>9183</th>\n",
       "      <td>1996</td>\n",
       "      <td>A Mother's Instinct</td>\n",
       "      <td>American</td>\n",
       "      <td>Sam Pillsbury</td>\n",
       "      <td>Lindsay Wagner</td>\n",
       "      <td>drama</td>\n",
       "      <td>https://en.wikipedia.org/wiki/A_Mother%27s_Ins...</td>\n",
       "      <td>A former divorcé learns that her new husband's...</td>\n",
       "    </tr>\n",
       "    <tr>\n",
       "      <th>10069</th>\n",
       "      <td>1971</td>\n",
       "      <td>Support Your Local Gunfighter!</td>\n",
       "      <td>American</td>\n",
       "      <td>Burt Kennedy</td>\n",
       "      <td>James Garner, Suzanne Pleshette, Harry Morgan</td>\n",
       "      <td>comedy</td>\n",
       "      <td>https://en.wikipedia.org/wiki/Support_Your_Loc...</td>\n",
       "      <td>Latigo Smith (Garner), a gambler and confidenc...</td>\n",
       "    </tr>\n",
       "    <tr>\n",
       "      <th>12212</th>\n",
       "      <td>1920</td>\n",
       "      <td>Love</td>\n",
       "      <td>American</td>\n",
       "      <td>Wesley Ruggles</td>\n",
       "      <td>Louise Glaum, James Kirkwood, Sr.</td>\n",
       "      <td>romance</td>\n",
       "      <td>https://en.wikipedia.org/wiki/Love_(1920_film)</td>\n",
       "      <td>A young woman, Natalie Storm (played by Glaum)...</td>\n",
       "    </tr>\n",
       "  </tbody>\n",
       "</table>\n",
       "</div>"
      ],
      "text/plain": [
       "       Release Year                           Title Origin/Ethnicity  \\\n",
       "9183           1996             A Mother's Instinct         American   \n",
       "10069          1971  Support Your Local Gunfighter!         American   \n",
       "12212          1920                            Love         American   \n",
       "\n",
       "             Director                                           Cast    Genre  \\\n",
       "9183    Sam Pillsbury                                 Lindsay Wagner    drama   \n",
       "10069    Burt Kennedy  James Garner, Suzanne Pleshette, Harry Morgan   comedy   \n",
       "12212  Wesley Ruggles              Louise Glaum, James Kirkwood, Sr.  romance   \n",
       "\n",
       "                                               Wiki Page  \\\n",
       "9183   https://en.wikipedia.org/wiki/A_Mother%27s_Ins...   \n",
       "10069  https://en.wikipedia.org/wiki/Support_Your_Loc...   \n",
       "12212     https://en.wikipedia.org/wiki/Love_(1920_film)   \n",
       "\n",
       "                                                    Plot  \n",
       "9183   A former divorcé learns that her new husband's...  \n",
       "10069  Latigo Smith (Garner), a gambler and confidenc...  \n",
       "12212  A young woman, Natalie Storm (played by Glaum)...  "
      ]
     },
     "execution_count": 5,
     "metadata": {},
     "output_type": "execute_result"
    }
   ],
   "source": [
    "train.sample(3)"
   ]
  },
  {
   "cell_type": "code",
   "execution_count": 32,
   "metadata": {},
   "outputs": [
    {
     "name": "stdout",
     "output_type": "stream",
     "text": [
      "3881    Jennifer Baylor (Lisa Pelikan) is a poor, red-headed young woman from West Virginia. Jennifer possesses a power over snakes, an ability to control them and communicate with them. She and her father, Luke Baylor (Jeff Corey), left their home in disgrace, because when Jennifer was around the age of seven, some snakes she had been handling killed the town preacher's son. She refused to handle snakes ever again, though Luke now runs a pet store and often encourages her to use her power again. Luke is mentally disabled, unable to make meals for himself without burning them, and relies on Jennifer since his wife died. While Luke does run the pet store, he spends most of the time in a back room, listening to Christian radio.\\r\\nJennifer receives a scholarship to an upper-class girls private school. While at school, Jennifer encounters a clique of wealthy and cruel girls, who hate her for being poor and different. These girls turn others against Jennifer throughout the movie, but Jennifer also makes friends of her own, including teacher Jeff Reed (Bert Convy). The wealthy girls' cruelty eventually pushes Jennifer over the edge, causing her to use her special powers again for the sake of revenge against those that hurt her and her new friends.\n",
      "Name: Plot, dtype: object\n"
     ]
    },
    {
     "name": "stderr",
     "output_type": "stream",
     "text": [
      "<ipython-input-32-a88a29b1d8b0>:1: FutureWarning: Passing a negative integer is deprecated in version 1.0 and will not be supported in future version. Instead, use None to not limit the column width.\n",
      "  pd.set_option('display.max_colwidth', -1)\n"
     ]
    }
   ],
   "source": [
    "pd.set_option('display.max_colwidth', -1)\n",
    "print(train[\"Plot\"].sample(1))"
   ]
  },
  {
   "cell_type": "markdown",
   "metadata": {},
   "source": [
    "## Baseline\n",
    "\n",
    "Creating the Baseline method. Firstly, a Count Vectorizer is used to create tokens of the words in the plot descriptions."
   ]
  },
  {
   "cell_type": "code",
   "execution_count": 10,
   "metadata": {},
   "outputs": [],
   "source": [
    "#Initialize CountVectorizer\n",
    "cv_base = CountVectorizer(max_features=1000,  max_df=.9)\n",
    "#tfidf_transformer_base = TfidfTransformer(smooth_idf=True,use_idf=True)\n",
    "\n",
    "#Fitting the vectorizer base to the Plot feature\n",
    "#Train data:\n",
    "train_cv_base = cv_base.fit_transform(train['Plot'])\n",
    "#Test Data:\n",
    "test_cv_base= cv_base.transform(test['Plot'])"
   ]
  },
  {
   "cell_type": "code",
   "execution_count": 11,
   "metadata": {},
   "outputs": [
    {
     "data": {
      "image/png": "[encoded data removed]",
      "text/plain": [
       "<Figure size 576x396 with 1 Axes>"
      ]
     },
     "metadata": {},
     "output_type": "display_data"
    },
    {
     "data": {
      "text/plain": [
       "<AxesSubplot:title={'center':'Frequency Distribution of Top 50 tokens'}>"
      ]
     },
     "execution_count": 11,
     "metadata": {},
     "output_type": "execute_result"
    }
   ],
   "source": [
    "#Visualize the counts of the most used words in our corpus\n",
    "visualizer = FreqDistVisualizer(features=cv_base.get_feature_names(), orient='v')\n",
    "visualizer.fit(train_cv_base)\n",
    "visualizer.show()"
   ]
  },
  {
   "cell_type": "markdown",
   "metadata": {},
   "source": [
    "Creating the baseline Logistic regression model to solve the classification task"
   ]
  },
  {
   "cell_type": "code",
   "execution_count": 53,
   "metadata": {},
   "outputs": [
    {
     "name": "stderr",
     "output_type": "stream",
     "text": [
      "C:\\Users\\fiora\\anaconda3\\lib\\site-packages\\sklearn\\linear_model\\_logistic.py:762: ConvergenceWarning: lbfgs failed to converge (status=1):\n",
      "STOP: TOTAL NO. of ITERATIONS REACHED LIMIT.\n",
      "\n",
      "Increase the number of iterations (max_iter) or scale the data as shown in:\n",
      "    https://scikit-learn.org/stable/modules/preprocessing.html\n",
      "Please also refer to the documentation for alternative solver options:\n",
      "    https://scikit-learn.org/stable/modules/linear_model.html#logistic-regression\n",
      "  n_iter_i = _check_optimize_result(\n"
     ]
    },
    {
     "data": {
      "text/plain": [
       "0.7492403524764509"
      ]
     },
     "execution_count": 53,
     "metadata": {},
     "output_type": "execute_result"
    }
   ],
   "source": [
    "#Create Logisic regression\n",
    "lr_classifier_base = LogisticRegression(max_iter=1000,solver='liblinear')\n",
    "#Fiting the Logistic regression with the token features to model the Movie Genre\n",
    "lr_classifier_base.fit(train_cv_base, train['Genre'])\n",
    "#Generate predictions with the term frequency object created\n",
    "prediction_base = lr_classifier_base.predict(train_cv_base)\n",
    "#Accuracy Score of the model\n",
    "accuracy_score(train['Genre'],  prediction_base)"
   ]
  },
  {
   "cell_type": "code",
   "execution_count": 54,
   "metadata": {},
   "outputs": [
    {
     "name": "stdout",
     "output_type": "stream",
     "text": [
      "              precision    recall  f1-score   support\n",
      "\n",
      "      action       0.81      0.69      0.75       890\n",
      "   adventure       0.90      0.77      0.83       422\n",
      "      comedy       0.73      0.70      0.71      3503\n",
      "       crime       0.76      0.64      0.69       442\n",
      "       drama       0.69      0.81      0.74      4781\n",
      "      horror       0.93      0.89      0.91       937\n",
      "     romance       0.76      0.57      0.65       743\n",
      "    thriller       0.82      0.58      0.68       768\n",
      "     western       0.93      0.91      0.92       678\n",
      "\n",
      "    accuracy                           0.75     13164\n",
      "   macro avg       0.81      0.73      0.77     13164\n",
      "weighted avg       0.76      0.75      0.75     13164\n",
      "\n"
     ]
    }
   ],
   "source": [
    "print(classification_report(train['Genre'], prediction_base))"
   ]
  },
  {
   "cell_type": "markdown",
   "metadata": {},
   "source": [
    "Use test set and after subission we obtain 52.55% accuracy on the test set. From here we try to improve the score on unseen data."
   ]
  },
  {
   "cell_type": "code",
   "execution_count": 55,
   "metadata": {},
   "outputs": [],
   "source": [
    "#Predict based on the test set\n",
    "test[\"Predicted\"] = lr_classifier_base.predict(test_cv_base)\n",
    "#Export predictions\n",
    "test[['Id','Predicted']].to_csv('my_submissions_baseline.csv', index=False)"
   ]
  },
  {
   "cell_type": "markdown",
   "metadata": {},
   "source": [
    "## Baseline Improvements"
   ]
  },
  {
   "cell_type": "markdown",
   "metadata": {},
   "source": [
    "### Adding Term Frequency times inverse document frequency"
   ]
  },
  {
   "cell_type": "markdown",
   "metadata": {},
   "source": [
    "Using the Term Frequency times inverse document frequency (TF-IDF) should take into account the frequency of a token found in one movie plot with respect also to the remaining movie plots."
   ]
  },
  {
   "cell_type": "code",
   "execution_count": 10,
   "metadata": {},
   "outputs": [],
   "source": [
    "#TF-IDF: Term Frequency times inverse document frequency\n",
    "tfidf_transformer_base = TfidfTransformer(smooth_idf=True,use_idf=True)\n",
    "#Train Data:\n",
    "train_tfidf_base = tfidf_transformer_base.fit_transform(train_cv_base)\n",
    "#Test Data\n",
    "test_tfidf_base = tfidf_transformer_base.transform(test_cv_base)"
   ]
  },
  {
   "cell_type": "markdown",
   "metadata": {},
   "source": [
    "The training accuracy is already worse than with the baseline model."
   ]
  },
  {
   "cell_type": "code",
   "execution_count": 11,
   "metadata": {},
   "outputs": [
    {
     "data": {
      "text/plain": [
       "0.6247341233667578"
      ]
     },
     "execution_count": 11,
     "metadata": {},
     "output_type": "execute_result"
    }
   ],
   "source": [
    "#Create Logisic regression\n",
    "lr_classifier_tfidf = LogisticRegression(max_iter=1000,solver='liblinear')\n",
    "#Fiting the Logistic regression with the token features to model the Movie Genre\n",
    "lr_classifier_tfidf.fit(train_tfidf_base, train['Genre'])\n",
    "#Generate predictions with the term frequency object created\n",
    "prediction_tfidf = lr_classifier_tfidf.predict(train_tfidf_base)\n",
    "#Accuracy Score of the model\n",
    "accuracy_score(train['Genre'],  prediction_tfidf)"
   ]
  },
  {
   "cell_type": "code",
   "execution_count": 13,
   "metadata": {},
   "outputs": [],
   "source": [
    "#Predict based on the test set\n",
    "test[\"Predicted\"] = lr_classifier_base.predict(test_tfidf_base)\n",
    "#Export predictions\n",
    "test[['Id','Predicted']].to_csv('my_submissions_tfidf.csv', index=False)"
   ]
  },
  {
   "cell_type": "markdown",
   "metadata": {},
   "source": [
    "The accuracy on the test set drops to 35.36%. It does a lot worse than the baseline for the logistic regression."
   ]
  },
  {
   "cell_type": "markdown",
   "metadata": {},
   "source": [
    "## Model Improvement with Grid Search"
   ]
  },
  {
   "cell_type": "markdown",
   "metadata": {},
   "source": [
    "Firstly, a model improvement is search through a **Grid Search** which aims to find the best parameters for the default Logistic regression model. This process is called parameter tuning.\n",
    "\n",
    "Another improvement in the model is to add a list of **stop_words** in the CountVectorizer. These are common words of the English language, like prepositions, articles and pronouns which do not carry much information for the classifying goal."
   ]
  },
  {
   "cell_type": "code",
   "execution_count": 19,
   "metadata": {},
   "outputs": [],
   "source": [
    "#Use the pipeline to chain together different passages.\n",
    "pipeline = Pipeline([\n",
    "                     ('vectorizer' , CountVectorizer(stop_words=\"english\")),\n",
    "                     ('tf_transfomer', TfidfTransformer()),\n",
    "                     ('classifier' , LogisticRegression(max_iter=1000))\n",
    "                    ])\n",
    "#The dictionary of parameters specifies the search space of the grid\n",
    "parameters = {'vectorizer__max_df' : [.4 , .5, .6, .7 , .8],\n",
    "              'vectorizer__min_df' : [10, 20, 40],  \n",
    "              'vectorizer__ngram_range' : [(1,1), (1,2)],\n",
    "              'tf_transfomer__use_idf': (True, False),\n",
    "               }\n",
    "#Making Grid Search\n",
    "grid_search = GridSearchCV(pipeline,\n",
    "                           parameters,\n",
    "                           n_jobs = -1,#Used to parallelize a computation (use all the cores)\n",
    "                           cv = 5,#along the way make cross validation (data is split in 5 folds, see below)\n",
    "                           verbose = 1)"
   ]
  },
  {
   "cell_type": "code",
   "execution_count": 65,
   "metadata": {},
   "outputs": [
    {
     "name": "stdout",
     "output_type": "stream",
     "text": [
      "Fitting 5 folds for each of 60 candidates, totalling 300 fits\n"
     ]
    },
    {
     "name": "stderr",
     "output_type": "stream",
     "text": [
      "[Parallel(n_jobs=-1)]: Using backend LokyBackend with 8 concurrent workers.\n",
      "[Parallel(n_jobs=-1)]: Done  34 tasks      | elapsed:  1.7min\n",
      "[Parallel(n_jobs=-1)]: Done 184 tasks      | elapsed:  8.1min\n",
      "[Parallel(n_jobs=-1)]: Done 300 out of 300 | elapsed: 13.2min finished\n"
     ]
    },
    {
     "data": {
      "text/plain": [
       "GridSearchCV(cv=5,\n",
       "             estimator=Pipeline(steps=[('vectorizer', CountVectorizer()),\n",
       "                                       ('tf_transfomer', TfidfTransformer()),\n",
       "                                       ('classifier',\n",
       "                                        LogisticRegression(max_iter=1000))]),\n",
       "             n_jobs=-1,\n",
       "             param_grid={'tf_transfomer__use_idf': (True, False),\n",
       "                         'vectorizer__max_df': [0.4, 0.5, 0.6, 0.7, 0.8],\n",
       "                         'vectorizer__min_df': [10, 20, 40],\n",
       "                         'vectorizer__ngram_range': [(1, 1), (1, 2)],\n",
       "                         'vectorizer__stop_words': ['english']},\n",
       "             verbose=1)"
      ]
     },
     "execution_count": 65,
     "metadata": {},
     "output_type": "execute_result"
    }
   ],
   "source": [
    "grid_search.fit(train['Plot'],train['Genre'])"
   ]
  },
  {
   "cell_type": "markdown",
   "metadata": {},
   "source": [
    "Here the best parameter settings from the Grid Search is returned. Indeed, it confirmes that the idf is not needed in this logistic regression model"
   ]
  },
  {
   "cell_type": "code",
   "execution_count": 69,
   "metadata": {},
   "outputs": [
    {
     "data": {
      "text/plain": [
       "{'tf_transfomer__use_idf': False,\n",
       " 'vectorizer__max_df': 0.4,\n",
       " 'vectorizer__min_df': 20,\n",
       " 'vectorizer__ngram_range': (1, 2),\n",
       " 'vectorizer__stop_words': 'english'}"
      ]
     },
     "execution_count": 69,
     "metadata": {},
     "output_type": "execute_result"
    }
   ],
   "source": [
    "grid_search.best_params_"
   ]
  },
  {
   "cell_type": "markdown",
   "metadata": {},
   "source": [
    "Train a model according to the Grid Search parameters and obtaining the training accuracy"
   ]
  },
  {
   "cell_type": "code",
   "execution_count": 67,
   "metadata": {},
   "outputs": [
    {
     "data": {
      "text/plain": [
       "0.7495442114858706"
      ]
     },
     "execution_count": 67,
     "metadata": {},
     "output_type": "execute_result"
    }
   ],
   "source": [
    "best_pipe_1 = grid_search.best_estimator_\n",
    "pipe_prediction_1 = best_pipe_1.predict(train['Plot'])\n",
    "accuracy_score(train['Genre'],  pipe_prediction_1)"
   ]
  },
  {
   "cell_type": "code",
   "execution_count": 68,
   "metadata": {},
   "outputs": [],
   "source": [
    "test[\"Predicted\"] = best_pipe_1.predict(test[\"Plot\"])\n",
    "test[['Id','Predicted']].to_csv('my_submissions_GS1.csv', index=False)"
   ]
  },
  {
   "cell_type": "markdown",
   "metadata": {},
   "source": [
    "With the model selected with the Grid Search we obtain 60.08% accuracy on the test set, already an improvement from the Baseline model"
   ]
  },
  {
   "cell_type": "markdown",
   "metadata": {},
   "source": [
    "### Reproducing best model so far from Grid Search"
   ]
  },
  {
   "cell_type": "code",
   "execution_count": 3,
   "metadata": {},
   "outputs": [],
   "source": [
    "#Best model\n",
    "cv_best = CountVectorizer(max_df=.4, min_df = 20, ngram_range = (1,2), stop_words = \"english\")\n",
    "\n",
    "#Fitting the vectorizer best to the Plot feature\n",
    "#Train data:\n",
    "train_cv_best = cv_best.fit_transform(train['Plot'])\n",
    "#Test Data:\n",
    "test_cv_best= cv_best.transform(test['Plot'])\n",
    "\n",
    "#TF-IDF: Term Frequency times inverse document frequency\n",
    "tfidf_transformer_best = TfidfTransformer(use_idf=False)\n",
    "#Train Data:\n",
    "train_tfidf_best = tfidf_transformer_best.fit_transform(train_cv_best)\n",
    "#Test Data\n",
    "test_tfidf_best = tfidf_transformer_best.transform(test_cv_best)"
   ]
  },
  {
   "cell_type": "code",
   "execution_count": 22,
   "metadata": {},
   "outputs": [
    {
     "data": {
      "image/png": "[encoded data removed]",
      "text/plain": [
       "<Figure size 576x396 with 1 Axes>"
      ]
     },
     "metadata": {},
     "output_type": "display_data"
    },
    {
     "data": {
      "text/plain": [
       "<AxesSubplot:title={'center':'Frequency Distribution of Top 50 tokens'}>"
      ]
     },
     "execution_count": 22,
     "metadata": {},
     "output_type": "execute_result"
    }
   ],
   "source": [
    "visualizer = FreqDistVisualizer(features=cv_best.get_feature_names(), orient='v')\n",
    "visualizer.fit(train_cv_best)\n",
    "visualizer.show()"
   ]
  },
  {
   "cell_type": "code",
   "execution_count": 6,
   "metadata": {},
   "outputs": [
    {
     "data": {
      "text/plain": [
       "0.7495442114858706"
      ]
     },
     "execution_count": 6,
     "metadata": {},
     "output_type": "execute_result"
    }
   ],
   "source": [
    "#Create Logisic regression\n",
    "lr_classifier_best = LogisticRegression(max_iter=1000, multi_class = \"multinomial\")\n",
    "#Fiting the Logistic regression with the token features to model the Movie Genre\n",
    "lr_classifier_best.fit(train_tfidf_best, train['Genre'])\n",
    "#Generate predictions with the term frequency object created\n",
    "prediction_best = lr_classifier_best.predict(train_tfidf_best)\n",
    "#Accuracy Score of the model\n",
    "accuracy_score(train['Genre'],  prediction_best)"
   ]
  },
  {
   "cell_type": "markdown",
   "metadata": {},
   "source": [
    "## Lemmatization"
   ]
  },
  {
   "cell_type": "markdown",
   "metadata": {},
   "source": [
    "Another way that could increase the amount of information carried by our tokens can be achieved through **Lemmatization** which is used to reduce words to their base grammatical value. \n",
    "For instance plurals are returned singulars and verbs are returned conjugated. It is more advanced than stemming, which only reduces the token to its root, but may result in \"unreal\" words. This potentially will reduce the number of tokens by keeping only 1 common token for different \"conjugations\" of the same word."
   ]
  },
  {
   "cell_type": "code",
   "execution_count": 4,
   "metadata": {},
   "outputs": [
    {
     "name": "stdout",
     "output_type": "stream",
     "text": [
      "✔ Download and installation successful\n",
      "You can now load the package via spacy.load('en_core_web_md')\n"
     ]
    }
   ],
   "source": [
    "import spacy.cli\n",
    "spacy.cli.download(\"en_core_web_md\")\n",
    "nlp = spacy.load(\"en_core_web_md\")"
   ]
  },
  {
   "cell_type": "markdown",
   "metadata": {},
   "source": [
    "Creating a function to apply Lemmatization and joining the tokens of one plot description back together"
   ]
  },
  {
   "cell_type": "code",
   "execution_count": 15,
   "metadata": {},
   "outputs": [],
   "source": [
    "def lemmatize_string(text):\n",
    "    # Parse the sentence using the loaded nlp\n",
    "    doc = nlp(text)\n",
    "    # Extract the lemma for each token and join\n",
    "    lem = \" \".join([token.lemma_ for token in doc])\n",
    "    return lem"
   ]
  },
  {
   "cell_type": "code",
   "execution_count": null,
   "metadata": {},
   "outputs": [],
   "source": [
    "train[\"Lemma Plot\"] = train[\"Plot\"].apply(lemmatize_string)\n",
    "test[\"Lemma Plot\"] = test[\"Plot\"].apply(lemmatize_string)\n",
    "train_lemma = train.copy()\n",
    "test_lemma = test.copy()"
   ]
  },
  {
   "cell_type": "markdown",
   "metadata": {},
   "source": [
    "Since the apply function takes a lot of time, importint the already created dataset is faster"
   ]
  },
  {
   "cell_type": "code",
   "execution_count": 5,
   "metadata": {},
   "outputs": [],
   "source": [
    "train_lemma = pd.read_csv(\"train_lemma.csv\")\n",
    "test_lemma = pd.read_csv(\"test_lemma.csv\")"
   ]
  },
  {
   "cell_type": "markdown",
   "metadata": {},
   "source": [
    "## Grid Search -- Lemmatization Dataset"
   ]
  },
  {
   "cell_type": "markdown",
   "metadata": {},
   "source": [
    "Applying the previous Grid Search configuration on the dataset with lemmatized plot descriptions"
   ]
  },
  {
   "cell_type": "code",
   "execution_count": 22,
   "metadata": {},
   "outputs": [
    {
     "name": "stdout",
     "output_type": "stream",
     "text": [
      "Fitting 5 folds for each of 60 candidates, totalling 300 fits\n"
     ]
    },
    {
     "name": "stderr",
     "output_type": "stream",
     "text": [
      "[Parallel(n_jobs=-1)]: Using backend LokyBackend with 8 concurrent workers.\n",
      "[Parallel(n_jobs=-1)]: Done  34 tasks      | elapsed:  1.5min\n",
      "[Parallel(n_jobs=-1)]: Done 184 tasks      | elapsed:  7.4min\n",
      "[Parallel(n_jobs=-1)]: Done 300 out of 300 | elapsed: 12.2min finished\n"
     ]
    },
    {
     "data": {
      "text/plain": [
       "GridSearchCV(cv=5,\n",
       "             estimator=Pipeline(steps=[('vectorizer', CountVectorizer()),\n",
       "                                       ('tf_transfomer', TfidfTransformer()),\n",
       "                                       ('classifier',\n",
       "                                        LogisticRegression(max_iter=1000))]),\n",
       "             n_jobs=-1,\n",
       "             param_grid={'tf_transfomer__use_idf': (True, False),\n",
       "                         'vectorizer__max_df': [0.4, 0.5, 0.6, 0.7, 0.8],\n",
       "                         'vectorizer__min_df': [10, 20, 40],\n",
       "                         'vectorizer__ngram_range': [(1, 1), (1, 2)],\n",
       "                         'vectorizer__stop_words': ['english']},\n",
       "             verbose=1)"
      ]
     },
     "execution_count": 22,
     "metadata": {},
     "output_type": "execute_result"
    }
   ],
   "source": [
    "grid_search.fit(train_lemma['Lemma Plot'],train_lemma['Genre'])"
   ]
  },
  {
   "cell_type": "code",
   "execution_count": 23,
   "metadata": {},
   "outputs": [
    {
     "data": {
      "text/plain": [
       "{'tf_transfomer__use_idf': False,\n",
       " 'vectorizer__max_df': 0.4,\n",
       " 'vectorizer__min_df': 20,\n",
       " 'vectorizer__ngram_range': (1, 2),\n",
       " 'vectorizer__stop_words': 'english'}"
      ]
     },
     "execution_count": 23,
     "metadata": {},
     "output_type": "execute_result"
    }
   ],
   "source": [
    "grid_search.best_params_"
   ]
  },
  {
   "cell_type": "markdown",
   "metadata": {},
   "source": [
    "Training the model found from the first grid search to the Lemmatized dataset"
   ]
  },
  {
   "cell_type": "code",
   "execution_count": 24,
   "metadata": {},
   "outputs": [
    {
     "data": {
      "text/plain": [
       "0.74179580674567"
      ]
     },
     "execution_count": 24,
     "metadata": {},
     "output_type": "execute_result"
    }
   ],
   "source": [
    "best_pipe_2 = grid_search.best_estimator_\n",
    "pipe_prediction_2 = best_pipe_2.predict(train_lemma['Lemma Plot'])\n",
    "accuracy_score(train_lemma['Genre'],  pipe_prediction_2)"
   ]
  },
  {
   "cell_type": "code",
   "execution_count": 25,
   "metadata": {},
   "outputs": [],
   "source": [
    "test_lemma[\"Predicted\"] = best_pipe_2.predict(test_lemma[\"Lemma Plot\"])\n",
    "test_lemma[['Id','Predicted']].to_csv('my_submissions_GS2.csv', index=False)"
   ]
  },
  {
   "cell_type": "markdown",
   "metadata": {},
   "source": [
    "The accuracy on the test set is 59.96%, which did actually worse than before"
   ]
  },
  {
   "cell_type": "markdown",
   "metadata": {},
   "source": [
    "## Countvectorizer with Lemmatization"
   ]
  },
  {
   "cell_type": "markdown",
   "metadata": {},
   "source": [
    "Here the most common words after Lemmatization are shown"
   ]
  },
  {
   "cell_type": "code",
   "execution_count": 6,
   "metadata": {},
   "outputs": [],
   "source": [
    "#Initialize CountVectorizer with best settings from grid search\n",
    "cv_lemma = CountVectorizer(min_df=20,  max_df=.4, stop_words = \"english\", ngram_range= (1,2))\n",
    "#tfidf_transformer_lemma = TfidfTransformer(smooth_idf=True,use_idf=True)\n",
    "\n",
    "#Fitting the vectorizer base to the Plot feature\n",
    "#Train data:\n",
    "train_cv_lemma = cv_lemma.fit_transform(train_lemma['Lemma Plot'])\n",
    "#Test Data:\n",
    "test_cv_lemma= cv_lemma.transform(test_lemma['Lemma Plot'])\n",
    "\n",
    "#TF-IDF: Term Frequency \n",
    "tfidf_transformer_lemma = TfidfTransformer(use_idf=False)\n",
    "#Train Data:\n",
    "train_tfidf_lemma = tfidf_transformer_lemma.fit_transform(train_cv_lemma)\n",
    "#Test Data\n",
    "test_tfidf_lemma = tfidf_transformer_lemma.transform(test_cv_lemma)"
   ]
  },
  {
   "cell_type": "code",
   "execution_count": 28,
   "metadata": {},
   "outputs": [
    {
     "data": {
      "image/png": "[encoded data removed]",
      "text/plain": [
       "<Figure size 576x396 with 1 Axes>"
      ]
     },
     "metadata": {},
     "output_type": "display_data"
    },
    {
     "data": {
      "text/plain": [
       "<AxesSubplot:title={'center':'Frequency Distribution of Top 50 tokens'}>"
      ]
     },
     "execution_count": 28,
     "metadata": {},
     "output_type": "execute_result"
    }
   ],
   "source": [
    "#Visualize the counts of the most used words in the corpus with lemmatization\n",
    "visualizer = FreqDistVisualizer(features=cv_lemma.get_feature_names(), orient='v')\n",
    "visualizer.fit(train_cv_lemma)\n",
    "visualizer.show()"
   ]
  },
  {
   "cell_type": "markdown",
   "metadata": {},
   "source": [
    "# Competing Models"
   ]
  },
  {
   "cell_type": "markdown",
   "metadata": {},
   "source": [
    "Now it is time to try different models than the Logistic Regression.\n",
    "\n",
    "In this section 2 competing models will be experimented: **XGBoost** and **Support Vector Machines**"
   ]
  },
  {
   "cell_type": "markdown",
   "metadata": {},
   "source": [
    "## XG boost"
   ]
  },
  {
   "cell_type": "markdown",
   "metadata": {},
   "source": [
    "Here a first competing model is defined. The XGBoost model is proposed as classifier."
   ]
  },
  {
   "cell_type": "code",
   "execution_count": 20,
   "metadata": {},
   "outputs": [
    {
     "name": "stdout",
     "output_type": "stream",
     "text": [
      "[10:17:27] WARNING: C:/Users/Administrator/workspace/xgboost-win64_release_1.4.0/src/learner.cc:573: \n",
      "Parameters: { \"silent\" } might not be used.\n",
      "\n",
      "  This may not be accurate due to some parameters are only used in language bindings but\n",
      "  passed down to XGBoost core.  Or some parameters are not used but slip through this\n",
      "  verification. Please open an issue if you find above cases.\n",
      "\n",
      "\n",
      "[10:17:28] WARNING: C:/Users/Administrator/workspace/xgboost-win64_release_1.4.0/src/learner.cc:1095: Starting in XGBoost 1.3.0, the default evaluation metric used with the objective 'multi:softprob' was changed from 'merror' to 'mlogloss'. Explicitly set eval_metric if you'd like to restore the old behavior.\n"
     ]
    },
    {
     "data": {
      "text/plain": [
       "XGBClassifier(base_score=0.5, booster='gbtree', colsample_bylevel=1,\n",
       "              colsample_bynode=1, colsample_bytree=0.4, eta=0.3, gamma=0,\n",
       "              gpu_id=-1, importance_type='gain', interaction_constraints='',\n",
       "              learning_rate=0.01, max_delta_step=0, max_depth=4,\n",
       "              min_child_weight=1, missing=nan, monotone_constraints='()',\n",
       "              n_estimators=1000, n_jobs=8, num_class=9, num_parallel_tree=1,\n",
       "              objective='multi:softprob', random_state=0, reg_alpha=0.3,\n",
       "              reg_lambda=1, scale_pos_weight=None, silent=False, subsample=0.8,\n",
       "              tree_method='exact', validate_parameters=1, verbosity=None)"
      ]
     },
     "execution_count": 20,
     "metadata": {},
     "output_type": "execute_result"
    }
   ],
   "source": [
    "xgb = XGBClassifier(silent=False, \n",
    "                    booster=\"gbtree\",\n",
    "                    learning_rate=0.01,  \n",
    "                    colsample_bytree = 0.4, #typical values 0.5-1\n",
    "                    subsample = 0.8, #default is 1-smaller values to prevent overfitting\n",
    "                    objective='multi:softmax ', \n",
    "                    num_class = 9, #Number of classes movie genres\n",
    "                    n_estimators=1000, \n",
    "                    reg_lambda = 1, #prevent overfitting\n",
    "                    reg_alpha = 0.3,\n",
    "                    max_depth=4, #default 6 (3-10)\n",
    "                    min_child_weight = 1, #prevent overfitting with higher values\n",
    "                    eta = 0.3, #Values between 0.01-0.2\n",
    "                    gamma=0) #Should be tuned \n",
    "xgb.fit(train_tfidf_lemma, train[\"Genre\"])"
   ]
  },
  {
   "cell_type": "code",
   "execution_count": 22,
   "metadata": {},
   "outputs": [
    {
     "data": {
      "text/plain": [
       "0.728729869340626"
      ]
     },
     "execution_count": 22,
     "metadata": {},
     "output_type": "execute_result"
    }
   ],
   "source": [
    "xgb_pred = xgb.predict(train_tfidf_lemma)\n",
    "accuracy_score(train_lemma['Genre'],xgb_pred)"
   ]
  },
  {
   "cell_type": "markdown",
   "metadata": {},
   "source": [
    "Accuracy on the test set is 55.285%"
   ]
  },
  {
   "cell_type": "code",
   "execution_count": 51,
   "metadata": {},
   "outputs": [],
   "source": [
    "test_lemma[\"Predicted\"] = xgb.predict(test_tfidf_lemma)\n",
    "test_lemma[['Id','Predicted']].to_csv('my_submissions_XGBoost_1.csv', index=False)"
   ]
  },
  {
   "cell_type": "markdown",
   "metadata": {},
   "source": [
    "### Grid Search - XGBoost"
   ]
  },
  {
   "cell_type": "code",
   "execution_count": null,
   "metadata": {},
   "outputs": [],
   "source": [
    "#Use the pipeline to chain together different passages.\n",
    "pipe2 = Pipeline([\n",
    "                     ('vectorizer' , CountVectorizer(max_df=.4, stop_words = \"english\", ngram_range= (1,2))),\n",
    "                     ('tf_transfomer', TfidfTransformer()),\n",
    "                     ('clf', XGBClassifier(objective='multi:softmax ', num_class = 9, max_depth=6))\n",
    "                ])\n",
    "#Pass a dictionary of parameteres\n",
    "params2 = {\n",
    "    \n",
    "        'clf__min_child_weight': [1, 5],\n",
    "        'tf_transfomer\n",
    "        'clf__gamma': [0, 1, 3],\n",
    "        'clf__colsample_bytree': [0.4, 1.0],\n",
    "        'clf__max_depth': [3, 6],\n",
    "        'clf__reg_lambda': [0.6, 1.4]\n",
    "        }\n",
    "#Making Grid Search\n",
    "grid_search2 = GridSearchCV(pipe2,\n",
    "                           params2,\n",
    "                           n_jobs = -1,#Used to parallelize a computation \n",
    "                           cv = 3,#along the way make cross validation (data is split in 3 folds, see below)\n",
    "                           verbose = 1,\n",
    "                           scoring = \"accuracy\")"
   ]
  },
  {
   "cell_type": "code",
   "execution_count": null,
   "metadata": {},
   "outputs": [
    {
     "name": "stdout",
     "output_type": "stream",
     "text": [
      "Fitting 3 folds for each of 16 candidates, totalling 48 fits\n"
     ]
    },
    {
     "name": "stderr",
     "output_type": "stream",
     "text": [
      "[Parallel(n_jobs=-1)]: Using backend LokyBackend with 8 concurrent workers.\n"
     ]
    }
   ],
   "source": [
    "grid_search2.fit(train_lemma['Lemma Plot'],train_lemma['Genre'])"
   ]
  },
  {
   "cell_type": "code",
   "execution_count": 11,
   "metadata": {},
   "outputs": [
    {
     "data": {
      "text/plain": [
       "{'clf__colsample_bytree': 0.4,\n",
       " 'clf__gamma': 1,\n",
       " 'clf__max_depth': 6,\n",
       " 'clf__min_child_weight': 5,\n",
       " 'clf__reg_lambda': 1.4}"
      ]
     },
     "execution_count": 11,
     "metadata": {},
     "output_type": "execute_result"
    }
   ],
   "source": [
    "grid_search2.best_params_"
   ]
  },
  {
   "cell_type": "code",
   "execution_count": 12,
   "metadata": {},
   "outputs": [
    {
     "data": {
      "text/plain": [
       "0.8861288362199939"
      ]
     },
     "execution_count": 12,
     "metadata": {},
     "output_type": "execute_result"
    }
   ],
   "source": [
    "best_xgb_pipe = grid_search2.best_estimator_\n",
    "xgb_pred_pipe = best_xgb_pipe.predict(train_lemma['Lemma Plot'])\n",
    "accuracy_score(train_lemma['Genre'],  xgb_pred_pipe)"
   ]
  },
  {
   "cell_type": "code",
   "execution_count": 13,
   "metadata": {},
   "outputs": [],
   "source": [
    "test_lemma[\"Predicted\"] = best_xgb_pipe.predict(test_lemma[\"Lemma Plot\"])\n",
    "test_lemma[['Id','Predicted']].to_csv('my_submissions_xbgGS.csv', index=False)"
   ]
  },
  {
   "cell_type": "markdown",
   "metadata": {},
   "source": [
    "Accuracy on the test is 57.533%"
   ]
  },
  {
   "cell_type": "markdown",
   "metadata": {},
   "source": [
    "### Applying to the original dataset"
   ]
  },
  {
   "cell_type": "markdown",
   "metadata": {},
   "source": [
    "Now the best model from the grid search will be tried on the original dataset"
   ]
  },
  {
   "cell_type": "code",
   "execution_count": null,
   "metadata": {},
   "outputs": [
    {
     "name": "stdout",
     "output_type": "stream",
     "text": [
      "Fitting 3 folds for each of 16 candidates, totalling 48 fits\n"
     ]
    },
    {
     "name": "stderr",
     "output_type": "stream",
     "text": [
      "[Parallel(n_jobs=-1)]: Using backend LokyBackend with 8 concurrent workers.\n"
     ]
    }
   ],
   "source": [
    "grid_search2.fit(train['Plot'],train['Genre'])"
   ]
  },
  {
   "cell_type": "code",
   "execution_count": 9,
   "metadata": {},
   "outputs": [
    {
     "data": {
      "text/plain": [
       "{'clf__colsample_bytree': 1.0,\n",
       " 'clf__gamma': 1,\n",
       " 'clf__max_depth': 6,\n",
       " 'clf__min_child_weight': 5,\n",
       " 'clf__reg_lambda': 1.4}"
      ]
     },
     "execution_count": 9,
     "metadata": {},
     "output_type": "execute_result"
    }
   ],
   "source": [
    "grid_search2.best_params_"
   ]
  },
  {
   "cell_type": "code",
   "execution_count": 10,
   "metadata": {},
   "outputs": [
    {
     "data": {
      "text/plain": [
       "0.8881798845335764"
      ]
     },
     "execution_count": 10,
     "metadata": {},
     "output_type": "execute_result"
    }
   ],
   "source": [
    "best_xgb_pipe = grid_search2.best_estimator_\n",
    "xgb_pred_pipe = best_xgb_pipe.predict(train['Plot'])\n",
    "accuracy_score(train['Genre'],  xgb_pred_pipe)"
   ]
  },
  {
   "cell_type": "code",
   "execution_count": 11,
   "metadata": {},
   "outputs": [],
   "source": [
    "test[\"Predicted\"] = best_xgb_pipe.predict(test[\"Plot\"])\n",
    "test[['Id','Predicted']].to_csv('my_submissions_xbgGS2.csv', index=False)"
   ]
  },
  {
   "cell_type": "markdown",
   "metadata": {},
   "source": [
    "Test accuracy 58.262% which is again better than the one obtained from the lemmatized dataset."
   ]
  },
  {
   "cell_type": "markdown",
   "metadata": {},
   "source": [
    "## Support Vector Machine"
   ]
  },
  {
   "cell_type": "markdown",
   "metadata": {},
   "source": [
    "The final model is a Support Vector Machine (SVM) in this case it fits linear margins between different classes. "
   ]
  },
  {
   "cell_type": "markdown",
   "metadata": {},
   "source": [
    "### Baseline"
   ]
  },
  {
   "cell_type": "markdown",
   "metadata": {},
   "source": [
    "Firstly, a Baseline model is constrcted for the lemma dataset."
   ]
  },
  {
   "cell_type": "code",
   "execution_count": 19,
   "metadata": {},
   "outputs": [],
   "source": [
    "SVM = SVC(C=1.0, kernel='linear', gamma='auto')"
   ]
  },
  {
   "cell_type": "code",
   "execution_count": 21,
   "metadata": {},
   "outputs": [
    {
     "data": {
      "text/plain": [
       "SVC(gamma='auto', kernel='linear')"
      ]
     },
     "execution_count": 21,
     "metadata": {},
     "output_type": "execute_result"
    }
   ],
   "source": [
    "SVM.fit(train_tfidf_lemma, train_lemma[\"Genre\"])\n",
    "pred_SVM = SVM.predict(train_tfidf_lemma)\n",
    "accuracy_score(train_lemma['Genre'],  pred_SVM)"
   ]
  },
  {
   "cell_type": "code",
   "execution_count": 22,
   "metadata": {},
   "outputs": [
    {
     "data": {
      "text/plain": [
       "0.8040109389243391"
      ]
     },
     "execution_count": 22,
     "metadata": {},
     "output_type": "execute_result"
    }
   ],
   "source": [
    "pred_SVM = SVM.predict(train_tfidf_lemma)\n",
    "accuracy_score(train_lemma['Genre'],  pred_SVM)"
   ]
  },
  {
   "cell_type": "code",
   "execution_count": 25,
   "metadata": {},
   "outputs": [],
   "source": [
    "test_lemma[\"Predicted\"] = SVM.predict(test_tfidf_lemma)\n",
    "test_lemma[['Id','Predicted']].to_csv('my_submissions_SVM.csv', index=False)"
   ]
  },
  {
   "cell_type": "markdown",
   "metadata": {},
   "source": [
    "Test accuracy 59.356%"
   ]
  },
  {
   "cell_type": "markdown",
   "metadata": {},
   "source": [
    "Now the model is tried for the original dataset"
   ]
  },
  {
   "cell_type": "code",
   "execution_count": 11,
   "metadata": {},
   "outputs": [],
   "source": [
    "SVM = SVC(C=1.0, kernel='linear', gamma='auto')"
   ]
  },
  {
   "cell_type": "code",
   "execution_count": 12,
   "metadata": {},
   "outputs": [
    {
     "data": {
      "text/plain": [
       "0.8190519598906107"
      ]
     },
     "execution_count": 12,
     "metadata": {},
     "output_type": "execute_result"
    }
   ],
   "source": [
    "SVM.fit(train_tfidf_best, train[\"Genre\"])\n",
    "pred_SVM = SVM.predict(train_tfidf_best)\n",
    "accuracy_score(train['Genre'],  pred_SVM)"
   ]
  },
  {
   "cell_type": "code",
   "execution_count": 13,
   "metadata": {},
   "outputs": [],
   "source": [
    "test[\"Predicted\"] = SVM.predict(test_tfidf_best)\n",
    "test[['Id','Predicted']].to_csv('my_submissions_SVM2.csv', index=False)"
   ]
  },
  {
   "cell_type": "markdown",
   "metadata": {},
   "source": [
    "Test accuracy 60.449%. Which is a slight improvement from the best one found with the Logistic regression"
   ]
  },
  {
   "cell_type": "markdown",
   "metadata": {},
   "source": [
    "### Grid Search"
   ]
  },
  {
   "cell_type": "markdown",
   "metadata": {},
   "source": [
    "Once again now a grid search to evaluate several hyperparameters is tried on the original dataset.\n",
    "\n",
    "The long training time for this model poses also a challange and limits the search space that can feasibly be investigated on this machine"
   ]
  },
  {
   "cell_type": "markdown",
   "metadata": {},
   "source": [
    "This time the stopwords are tried to be obtained from the NLTK package"
   ]
  },
  {
   "cell_type": "code",
   "execution_count": 4,
   "metadata": {},
   "outputs": [
    {
     "name": "stderr",
     "output_type": "stream",
     "text": [
      "[nltk_data] Downloading package stopwords to\n",
      "[nltk_data]     C:\\Users\\fiora\\AppData\\Roaming\\nltk_data...\n",
      "[nltk_data]   Package stopwords is already up-to-date!\n"
     ]
    }
   ],
   "source": [
    "#Setting stopwords from the NLTK package\n",
    "nltk.download('stopwords')\n",
    "en_stopwords = set(nltk.corpus.stopwords.words('english'))"
   ]
  },
  {
   "cell_type": "code",
   "execution_count": 3,
   "metadata": {},
   "outputs": [],
   "source": [
    "#Use the pipeline to chain together different passages.\n",
    "pipe4 = Pipeline([\n",
    "                     ('vectorizer' , CountVectorizer(stop_words = en_stopwords, ngram_range= (1,2))),\n",
    "                     ('tf_transfomer', TfidfTransformer()),\n",
    "                     ('clf', SVC(kernel = \"linear\", class_weight=\"balanced\"))\n",
    "                ])\n",
    "\n",
    "#Pass a dictionary of parameteres\n",
    "params4 = {\n",
    "        'vectorizer__max_df': [0.4,0.7],\n",
    "        'clf__C': [0.9, 1], # Regularization parameter. The strength of the regularization is inversely proportional to C\n",
    "        'tf_transfomer__use_idf': (True, False)\n",
    "        \n",
    "}\n",
    "#Making Grid Search\n",
    "grid_search4 = GridSearchCV(pipe4,\n",
    "                           params4,\n",
    "                           n_jobs = -1,#Used to parallelize a computation (use all the cores)\n",
    "                           cv = 3,#along the way make cross validation (data is split in 3 folds, see below)\n",
    "                           verbose = 1)"
   ]
  },
  {
   "cell_type": "code",
   "execution_count": 6,
   "metadata": {},
   "outputs": [
    {
     "name": "stdout",
     "output_type": "stream",
     "text": [
      "Fitting 3 folds for each of 8 candidates, totalling 24 fits\n"
     ]
    },
    {
     "name": "stderr",
     "output_type": "stream",
     "text": [
      "[Parallel(n_jobs=-1)]: Using backend LokyBackend with 8 concurrent workers.\n",
      "[Parallel(n_jobs=-1)]: Done  24 out of  24 | elapsed: 28.6min finished\n"
     ]
    },
    {
     "data": {
      "text/plain": [
       "GridSearchCV(cv=3,\n",
       "             estimator=Pipeline(steps=[('vectorizer',\n",
       "                                        CountVectorizer(ngram_range=(1, 2),\n",
       "                                                        stop_words={'a',\n",
       "                                                                    'about',\n",
       "                                                                    'above',\n",
       "                                                                    'after',\n",
       "                                                                    'again',\n",
       "                                                                    'against',\n",
       "                                                                    'ain',\n",
       "                                                                    'all', 'am',\n",
       "                                                                    'an', 'and',\n",
       "                                                                    'any',\n",
       "                                                                    'are',\n",
       "                                                                    'aren',\n",
       "                                                                    \"aren't\",\n",
       "                                                                    'as', 'at',\n",
       "                                                                    'be',\n",
       "                                                                    'because',\n",
       "                                                                    'been',\n",
       "                                                                    'before',\n",
       "                                                                    'being',\n",
       "                                                                    'below',\n",
       "                                                                    'between',\n",
       "                                                                    'both',\n",
       "                                                                    'but', 'by',\n",
       "                                                                    'can',\n",
       "                                                                    'couldn',\n",
       "                                                                    \"couldn't\", ...})),\n",
       "                                       ('tf_transfomer', TfidfTransformer()),\n",
       "                                       ('clf',\n",
       "                                        SVC(class_weight='balanced',\n",
       "                                            kernel='linear'))]),\n",
       "             n_jobs=-1,\n",
       "             param_grid={'clf__C': [0.9, 1],\n",
       "                         'tf_transfomer__use_idf': (True, False),\n",
       "                         'vectorizer__max_df': [0.4, 0.7]},\n",
       "             verbose=1)"
      ]
     },
     "execution_count": 6,
     "metadata": {},
     "output_type": "execute_result"
    }
   ],
   "source": [
    "grid_search4.fit(train['Plot'],train['Genre'])"
   ]
  },
  {
   "cell_type": "markdown",
   "metadata": {},
   "source": [
    "Interestingly, for the SVM the idf is returned True"
   ]
  },
  {
   "cell_type": "code",
   "execution_count": 7,
   "metadata": {},
   "outputs": [
    {
     "data": {
      "text/plain": [
       "{'clf__C': 1, 'tf_transfomer__use_idf': True, 'vectorizer__max_df': 0.4}"
      ]
     },
     "execution_count": 7,
     "metadata": {},
     "output_type": "execute_result"
    }
   ],
   "source": [
    "grid_search4.best_params_"
   ]
  },
  {
   "cell_type": "markdown",
   "metadata": {},
   "source": [
    "Here we have a very high accuracy on the training set, which may be due to overfitting"
   ]
  },
  {
   "cell_type": "code",
   "execution_count": 8,
   "metadata": {},
   "outputs": [
    {
     "data": {
      "text/plain": [
       "0.9502430872075357"
      ]
     },
     "execution_count": 8,
     "metadata": {},
     "output_type": "execute_result"
    }
   ],
   "source": [
    "best_svm_pipe4 = grid_search4.best_estimator_\n",
    "svm_pred_pipe4 = best_svm_pipe4.predict(train['Plot'])\n",
    "accuracy_score(train['Genre'],  svm_pred_pipe4)"
   ]
  },
  {
   "cell_type": "code",
   "execution_count": 9,
   "metadata": {},
   "outputs": [],
   "source": [
    "test[\"Predicted\"] = best_svm_pipe4.predict(test['Plot'])\n",
    "test[['Id','Predicted']].to_csv('my_submissions_SVM__GS7.csv', index=False)"
   ]
  },
  {
   "cell_type": "markdown",
   "metadata": {},
   "source": [
    "Test accuracy is 60.692% which is the best one found!\n",
    "\n",
    "It would be interesting to extend the grid search and test different parameter configurations, but the training time and the limited capacity of the machine create obstacles in this goal. A solution is to bring the analysis on an external server with stronger capacities."
   ]
  }
 ],
 "metadata": {
  "kernelspec": {
   "display_name": "Python 3",
   "language": "python",
   "name": "python3"
  },
  "language_info": {
   "codemirror_mode": {
    "name": "ipython",
    "version": 3
   },
   "file_extension": ".py",
   "mimetype": "text/x-python",
   "name": "python",
   "nbconvert_exporter": "python",
   "pygments_lexer": "ipython3",
   "version": "3.8.5"
  }
 },
 "nbformat": 4,
 "nbformat_minor": 4
}
